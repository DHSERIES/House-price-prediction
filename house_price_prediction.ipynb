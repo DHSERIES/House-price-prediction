{
 "cells": [
  {
   "cell_type": "code",
   "execution_count": null,
   "metadata": {
    "_cell_guid": "b1076dfc-b9ad-4769-8c92-a6c4dae69d19",
    "_uuid": "8f2839f25d086af736a60e9eeb907d3b93b6e0e5",
    "execution": {
     "iopub.execute_input": "2025-06-24T03:33:48.600244Z",
     "iopub.status.busy": "2025-06-24T03:33:48.599075Z",
     "iopub.status.idle": "2025-06-24T03:33:48.607303Z",
     "shell.execute_reply": "2025-06-24T03:33:48.606439Z",
     "shell.execute_reply.started": "2025-06-24T03:33:48.600178Z"
    },
    "trusted": true
   },
   "outputs": [
    {
     "name": "stdout",
     "output_type": "stream",
     "text": [
      "/kaggle/input/housedata/output.csv\n",
      "/kaggle/input/housedata/data.csv\n",
      "/kaggle/input/housedata/data.dat\n"
     ]
    }
   ],
   "source": [
    "# This Python 3 environment comes with many helpful analytics libraries installed\n",
    "# It is defined by the kaggle/python Docker image: https://github.com/kaggle/docker-python\n",
    "# For example, here's several helpful packages to load\n",
    "\n",
    "import numpy as np # linear algebra\n",
    "import pandas as pd # data processing, CSV file I/O (e.g. pd.read_csv)\n",
    "\n",
    "# Input data files are available in the read-only \"../input/\" directory\n",
    "# For example, running this (by clicking run or pressing Shift+Enter) will list all files under the input directory\n",
    "\n",
    "import os\n",
    "for dirname, _, filenames in os.walk('/data'):\n",
    "    for filename in filenames:\n",
    "        print(os.path.join(dirname, filename))\n",
    "\n",
    "# You can write up to 20GB to the current directory (/kaggle/working/) that gets preserved as output when you create a version using \"Save & Run All\" \n",
    "# You can also write temporary files to /kaggle/temp/, but they won't be saved outside of the current session"
   ]
  },
  {
   "cell_type": "code",
   "execution_count": null,
   "metadata": {
    "execution": {
     "iopub.execute_input": "2025-06-24T03:34:13.641438Z",
     "iopub.status.busy": "2025-06-24T03:34:13.641097Z",
     "iopub.status.idle": "2025-06-24T03:34:14.087795Z",
     "shell.execute_reply": "2025-06-24T03:34:14.086959Z",
     "shell.execute_reply.started": "2025-06-24T03:34:13.641416Z"
    },
    "trusted": true
   },
   "outputs": [],
   "source": [
    "import seaborn as sns\n",
    "import matplotlib.pyplot as plt"
   ]
  },
  {
   "cell_type": "code",
   "execution_count": null,
   "metadata": {
    "execution": {
     "iopub.execute_input": "2025-06-24T03:34:14.460149Z",
     "iopub.status.busy": "2025-06-24T03:34:14.458900Z",
     "iopub.status.idle": "2025-06-24T03:34:14.484816Z",
     "shell.execute_reply": "2025-06-24T03:34:14.484155Z",
     "shell.execute_reply.started": "2025-06-24T03:34:14.460114Z"
    },
    "trusted": true
   },
   "outputs": [],
   "source": [
    "raw_df = pd.read_csv(\"/kaggle/input/housedata/data.csv\")"
   ]
  },
  {
   "cell_type": "code",
   "execution_count": null,
   "metadata": {
    "execution": {
     "iopub.execute_input": "2025-06-24T03:34:21.565001Z",
     "iopub.status.busy": "2025-06-24T03:34:21.564174Z",
     "iopub.status.idle": "2025-06-24T03:34:21.576973Z",
     "shell.execute_reply": "2025-06-24T03:34:21.576275Z",
     "shell.execute_reply.started": "2025-06-24T03:34:21.564976Z"
    },
    "trusted": true
   },
   "outputs": [
    {
     "name": "stdout",
     "output_type": "stream",
     "text": [
      "<class 'pandas.core.frame.DataFrame'>\n",
      "RangeIndex: 4600 entries, 0 to 4599\n",
      "Data columns (total 18 columns):\n",
      " #   Column         Non-Null Count  Dtype  \n",
      "---  ------         --------------  -----  \n",
      " 0   date           4600 non-null   object \n",
      " 1   price          4600 non-null   float64\n",
      " 2   bedrooms       4600 non-null   float64\n",
      " 3   bathrooms      4600 non-null   float64\n",
      " 4   sqft_living    4600 non-null   int64  \n",
      " 5   sqft_lot       4600 non-null   int64  \n",
      " 6   floors         4600 non-null   float64\n",
      " 7   waterfront     4600 non-null   int64  \n",
      " 8   view           4600 non-null   int64  \n",
      " 9   condition      4600 non-null   int64  \n",
      " 10  sqft_above     4600 non-null   int64  \n",
      " 11  sqft_basement  4600 non-null   int64  \n",
      " 12  yr_built       4600 non-null   int64  \n",
      " 13  yr_renovated   4600 non-null   int64  \n",
      " 14  street         4600 non-null   object \n",
      " 15  city           4600 non-null   object \n",
      " 16  statezip       4600 non-null   object \n",
      " 17  country        4600 non-null   object \n",
      "dtypes: float64(4), int64(9), object(5)\n",
      "memory usage: 647.0+ KB\n"
     ]
    }
   ],
   "source": [
    "raw_df.info()"
   ]
  },
  {
   "cell_type": "code",
   "execution_count": null,
   "metadata": {
    "execution": {
     "iopub.execute_input": "2025-06-21T04:30:13.361497Z",
     "iopub.status.busy": "2025-06-21T04:30:13.361185Z",
     "iopub.status.idle": "2025-06-21T04:30:13.375682Z",
     "shell.execute_reply": "2025-06-21T04:30:13.374847Z",
     "shell.execute_reply.started": "2025-06-21T04:30:13.361472Z"
    },
    "trusted": true
   },
   "outputs": [
    {
     "data": {
      "text/html": [
       "<div>\n",
       "<style scoped>\n",
       "    .dataframe tbody tr th:only-of-type {\n",
       "        vertical-align: middle;\n",
       "    }\n",
       "\n",
       "    .dataframe tbody tr th {\n",
       "        vertical-align: top;\n",
       "    }\n",
       "\n",
       "    .dataframe thead th {\n",
       "        text-align: right;\n",
       "    }\n",
       "</style>\n",
       "<table border=\"1\" class=\"dataframe\">\n",
       "  <thead>\n",
       "    <tr style=\"text-align: right;\">\n",
       "      <th></th>\n",
       "      <th>date</th>\n",
       "      <th>price</th>\n",
       "      <th>bedrooms</th>\n",
       "      <th>bathrooms</th>\n",
       "      <th>sqft_living</th>\n",
       "      <th>sqft_lot</th>\n",
       "      <th>floors</th>\n",
       "      <th>waterfront</th>\n",
       "      <th>view</th>\n",
       "      <th>condition</th>\n",
       "      <th>sqft_above</th>\n",
       "      <th>sqft_basement</th>\n",
       "      <th>yr_built</th>\n",
       "      <th>yr_renovated</th>\n",
       "      <th>street</th>\n",
       "      <th>city</th>\n",
       "      <th>statezip</th>\n",
       "      <th>country</th>\n",
       "    </tr>\n",
       "  </thead>\n",
       "  <tbody>\n",
       "    <tr>\n",
       "      <th>0</th>\n",
       "      <td>2014-05-02 00:00:00</td>\n",
       "      <td>313000.0</td>\n",
       "      <td>3.0</td>\n",
       "      <td>1.50</td>\n",
       "      <td>1340</td>\n",
       "      <td>7912</td>\n",
       "      <td>1.5</td>\n",
       "      <td>0</td>\n",
       "      <td>0</td>\n",
       "      <td>3</td>\n",
       "      <td>1340</td>\n",
       "      <td>0</td>\n",
       "      <td>1955</td>\n",
       "      <td>2005</td>\n",
       "      <td>18810 Densmore Ave N</td>\n",
       "      <td>Shoreline</td>\n",
       "      <td>WA 98133</td>\n",
       "      <td>USA</td>\n",
       "    </tr>\n",
       "    <tr>\n",
       "      <th>1</th>\n",
       "      <td>2014-05-02 00:00:00</td>\n",
       "      <td>2384000.0</td>\n",
       "      <td>5.0</td>\n",
       "      <td>2.50</td>\n",
       "      <td>3650</td>\n",
       "      <td>9050</td>\n",
       "      <td>2.0</td>\n",
       "      <td>0</td>\n",
       "      <td>4</td>\n",
       "      <td>5</td>\n",
       "      <td>3370</td>\n",
       "      <td>280</td>\n",
       "      <td>1921</td>\n",
       "      <td>0</td>\n",
       "      <td>709 W Blaine St</td>\n",
       "      <td>Seattle</td>\n",
       "      <td>WA 98119</td>\n",
       "      <td>USA</td>\n",
       "    </tr>\n",
       "    <tr>\n",
       "      <th>2</th>\n",
       "      <td>2014-05-02 00:00:00</td>\n",
       "      <td>342000.0</td>\n",
       "      <td>3.0</td>\n",
       "      <td>2.00</td>\n",
       "      <td>1930</td>\n",
       "      <td>11947</td>\n",
       "      <td>1.0</td>\n",
       "      <td>0</td>\n",
       "      <td>0</td>\n",
       "      <td>4</td>\n",
       "      <td>1930</td>\n",
       "      <td>0</td>\n",
       "      <td>1966</td>\n",
       "      <td>0</td>\n",
       "      <td>26206-26214 143rd Ave SE</td>\n",
       "      <td>Kent</td>\n",
       "      <td>WA 98042</td>\n",
       "      <td>USA</td>\n",
       "    </tr>\n",
       "    <tr>\n",
       "      <th>3</th>\n",
       "      <td>2014-05-02 00:00:00</td>\n",
       "      <td>420000.0</td>\n",
       "      <td>3.0</td>\n",
       "      <td>2.25</td>\n",
       "      <td>2000</td>\n",
       "      <td>8030</td>\n",
       "      <td>1.0</td>\n",
       "      <td>0</td>\n",
       "      <td>0</td>\n",
       "      <td>4</td>\n",
       "      <td>1000</td>\n",
       "      <td>1000</td>\n",
       "      <td>1963</td>\n",
       "      <td>0</td>\n",
       "      <td>857 170th Pl NE</td>\n",
       "      <td>Bellevue</td>\n",
       "      <td>WA 98008</td>\n",
       "      <td>USA</td>\n",
       "    </tr>\n",
       "    <tr>\n",
       "      <th>4</th>\n",
       "      <td>2014-05-02 00:00:00</td>\n",
       "      <td>550000.0</td>\n",
       "      <td>4.0</td>\n",
       "      <td>2.50</td>\n",
       "      <td>1940</td>\n",
       "      <td>10500</td>\n",
       "      <td>1.0</td>\n",
       "      <td>0</td>\n",
       "      <td>0</td>\n",
       "      <td>4</td>\n",
       "      <td>1140</td>\n",
       "      <td>800</td>\n",
       "      <td>1976</td>\n",
       "      <td>1992</td>\n",
       "      <td>9105 170th Ave NE</td>\n",
       "      <td>Redmond</td>\n",
       "      <td>WA 98052</td>\n",
       "      <td>USA</td>\n",
       "    </tr>\n",
       "  </tbody>\n",
       "</table>\n",
       "</div>"
      ],
      "text/plain": [
       "                  date      price  bedrooms  bathrooms  sqft_living  sqft_lot  \\\n",
       "0  2014-05-02 00:00:00   313000.0       3.0       1.50         1340      7912   \n",
       "1  2014-05-02 00:00:00  2384000.0       5.0       2.50         3650      9050   \n",
       "2  2014-05-02 00:00:00   342000.0       3.0       2.00         1930     11947   \n",
       "3  2014-05-02 00:00:00   420000.0       3.0       2.25         2000      8030   \n",
       "4  2014-05-02 00:00:00   550000.0       4.0       2.50         1940     10500   \n",
       "\n",
       "   floors  waterfront  view  condition  sqft_above  sqft_basement  yr_built  \\\n",
       "0     1.5           0     0          3        1340              0      1955   \n",
       "1     2.0           0     4          5        3370            280      1921   \n",
       "2     1.0           0     0          4        1930              0      1966   \n",
       "3     1.0           0     0          4        1000           1000      1963   \n",
       "4     1.0           0     0          4        1140            800      1976   \n",
       "\n",
       "   yr_renovated                    street       city  statezip country  \n",
       "0          2005      18810 Densmore Ave N  Shoreline  WA 98133     USA  \n",
       "1             0           709 W Blaine St    Seattle  WA 98119     USA  \n",
       "2             0  26206-26214 143rd Ave SE       Kent  WA 98042     USA  \n",
       "3             0           857 170th Pl NE   Bellevue  WA 98008     USA  \n",
       "4          1992         9105 170th Ave NE    Redmond  WA 98052     USA  "
      ]
     },
     "execution_count": 100,
     "metadata": {},
     "output_type": "execute_result"
    }
   ],
   "source": [
    "raw_df.head(5)"
   ]
  },
  {
   "cell_type": "code",
   "execution_count": null,
   "metadata": {
    "execution": {
     "iopub.execute_input": "2025-06-21T04:31:25.428222Z",
     "iopub.status.busy": "2025-06-21T04:31:25.427913Z",
     "iopub.status.idle": "2025-06-21T04:31:25.439960Z",
     "shell.execute_reply": "2025-06-21T04:31:25.438987Z",
     "shell.execute_reply.started": "2025-06-21T04:31:25.428199Z"
    },
    "trusted": true
   },
   "outputs": [
    {
     "name": "stdout",
     "output_type": "stream",
     "text": [
      "<class 'pandas.core.frame.DataFrame'>\n",
      "RangeIndex: 4600 entries, 0 to 4599\n",
      "Data columns (total 18 columns):\n",
      " #   Column         Non-Null Count  Dtype  \n",
      "---  ------         --------------  -----  \n",
      " 0   date           4600 non-null   object \n",
      " 1   price          4600 non-null   float64\n",
      " 2   bedrooms       4600 non-null   float64\n",
      " 3   bathrooms      4600 non-null   float64\n",
      " 4   sqft_living    4600 non-null   int64  \n",
      " 5   sqft_lot       4600 non-null   int64  \n",
      " 6   floors         4600 non-null   float64\n",
      " 7   waterfront     4600 non-null   int64  \n",
      " 8   view           4600 non-null   int64  \n",
      " 9   condition      4600 non-null   int64  \n",
      " 10  sqft_above     4600 non-null   int64  \n",
      " 11  sqft_basement  4600 non-null   int64  \n",
      " 12  yr_built       4600 non-null   int64  \n",
      " 13  yr_renovated   4600 non-null   int64  \n",
      " 14  street         4600 non-null   object \n",
      " 15  city           4600 non-null   object \n",
      " 16  statezip       4600 non-null   object \n",
      " 17  country        4600 non-null   object \n",
      "dtypes: float64(4), int64(9), object(5)\n",
      "memory usage: 647.0+ KB\n"
     ]
    }
   ],
   "source": [
    "raw_df.info()"
   ]
  },
  {
   "cell_type": "code",
   "execution_count": null,
   "metadata": {
    "execution": {
     "iopub.execute_input": "2025-06-21T04:45:08.111350Z",
     "iopub.status.busy": "2025-06-21T04:45:08.111034Z",
     "iopub.status.idle": "2025-06-21T04:45:08.115415Z",
     "shell.execute_reply": "2025-06-21T04:45:08.114614Z",
     "shell.execute_reply.started": "2025-06-21T04:45:08.111323Z"
    },
    "trusted": true
   },
   "outputs": [],
   "source": [
    "# raw_df.describe()"
   ]
  },
  {
   "cell_type": "markdown",
   "metadata": {},
   "source": [
    "## preprocessing"
   ]
  },
  {
   "cell_type": "code",
   "execution_count": null,
   "metadata": {
    "execution": {
     "iopub.execute_input": "2025-06-24T03:35:12.567638Z",
     "iopub.status.busy": "2025-06-24T03:35:12.567185Z",
     "iopub.status.idle": "2025-06-24T03:35:12.572001Z",
     "shell.execute_reply": "2025-06-24T03:35:12.571004Z",
     "shell.execute_reply.started": "2025-06-24T03:35:12.567615Z"
    },
    "trusted": true
   },
   "outputs": [],
   "source": [
    "df = raw_df"
   ]
  },
  {
   "cell_type": "code",
   "execution_count": null,
   "metadata": {
    "execution": {
     "iopub.execute_input": "2025-06-24T03:35:15.123983Z",
     "iopub.status.busy": "2025-06-24T03:35:15.123426Z",
     "iopub.status.idle": "2025-06-24T03:35:15.127512Z",
     "shell.execute_reply": "2025-06-24T03:35:15.126808Z",
     "shell.execute_reply.started": "2025-06-24T03:35:15.123960Z"
    },
    "trusted": true
   },
   "outputs": [],
   "source": [
    "# df = df.drop(['street','country','city','statezip'],axis = 1,errors = 'ignore')\n",
    "# df = pd.get_dummies(df, columns=['statezip'], drop_first=True)"
   ]
  },
  {
   "cell_type": "code",
   "execution_count": null,
   "metadata": {
    "execution": {
     "iopub.execute_input": "2025-06-24T03:35:15.545039Z",
     "iopub.status.busy": "2025-06-24T03:35:15.544193Z",
     "iopub.status.idle": "2025-06-24T03:35:15.608724Z",
     "shell.execute_reply": "2025-06-24T03:35:15.608075Z",
     "shell.execute_reply.started": "2025-06-24T03:35:15.545013Z"
    },
    "trusted": true
   },
   "outputs": [],
   "source": [
    "df['date'] = pd.to_datetime(df['date']).dt.year\n",
    "df['house_age'] = df.apply(\n",
    "    lambda row: row['date'] - row['yr_built'] if row['yr_renovated'] == 0 else row['date'] - row['yr_renovated'],\n",
    "    axis=1\n",
    ")\n",
    "df = df.drop(['date','yr_built','yr_renovated'],axis = 1,errors = 'ignore')\n",
    "# df = pd.get_dummies(df, columns=['yr_renovated'], drop_first=True)"
   ]
  },
  {
   "cell_type": "code",
   "execution_count": null,
   "metadata": {
    "execution": {
     "iopub.execute_input": "2025-06-24T03:36:37.233120Z",
     "iopub.status.busy": "2025-06-24T03:36:37.232783Z",
     "iopub.status.idle": "2025-06-24T03:36:37.237438Z",
     "shell.execute_reply": "2025-06-24T03:36:37.236270Z",
     "shell.execute_reply.started": "2025-06-24T03:36:37.233096Z"
    },
    "trusted": true
   },
   "outputs": [],
   "source": [
    "# df.price.hist()"
   ]
  },
  {
   "cell_type": "markdown",
   "metadata": {},
   "source": [
    "# EDA"
   ]
  },
  {
   "cell_type": "code",
   "execution_count": null,
   "metadata": {
    "execution": {
     "iopub.execute_input": "2025-06-24T03:35:44.443539Z",
     "iopub.status.busy": "2025-06-24T03:35:44.443237Z",
     "iopub.status.idle": "2025-06-24T03:35:44.450451Z",
     "shell.execute_reply": "2025-06-24T03:35:44.449603Z",
     "shell.execute_reply.started": "2025-06-24T03:35:44.443518Z"
    },
    "trusted": true
   },
   "outputs": [
    {
     "name": "stdout",
     "output_type": "stream",
     "text": [
      "Numeric columns: ['price', 'bedrooms', 'bathrooms', 'sqft_living', 'sqft_lot', 'floors', 'waterfront', 'view', 'condition', 'sqft_above', 'sqft_basement', 'house_age']\n"
     ]
    }
   ],
   "source": [
    "numcol = df.select_dtypes(include='number').columns.tolist()\n",
    "print(f\"Numeric columns: {numcol}\")"
   ]
  },
  {
   "cell_type": "code",
   "execution_count": null,
   "metadata": {
    "execution": {
     "iopub.execute_input": "2025-06-24T03:35:51.535110Z",
     "iopub.status.busy": "2025-06-24T03:35:51.534563Z",
     "iopub.status.idle": "2025-06-24T03:35:51.538767Z",
     "shell.execute_reply": "2025-06-24T03:35:51.537945Z",
     "shell.execute_reply.started": "2025-06-24T03:35:51.535073Z"
    },
    "trusted": true
   },
   "outputs": [],
   "source": [
    "\n",
    "for col in numcol:\n",
    "    plt.figure(figsize=(8, 4))\n",
    "    sns.histplot(data=df, x=col, kde=True)  \n",
    "    plt.title(f'Histogram of {col}')\n",
    "    plt.xlabel(col)\n",
    "    plt.ylabel('Count')\n",
    "    plt.tight_layout()\n",
    "    plt.show()"
   ]
  },
  {
   "cell_type": "code",
   "execution_count": null,
   "metadata": {
    "execution": {
     "iopub.execute_input": "2025-06-24T03:35:52.319439Z",
     "iopub.status.busy": "2025-06-24T03:35:52.318913Z",
     "iopub.status.idle": "2025-06-24T03:35:52.935519Z",
     "shell.execute_reply": "2025-06-24T03:35:52.934695Z",
     "shell.execute_reply.started": "2025-06-24T03:35:52.319415Z"
    },
    "trusted": true
   },
   "outputs": [
    {
     "data": {
      "text/plain": [
       "<Axes: >"
      ]
     },
     "execution_count": 27,
     "metadata": {},
     "output_type": "execute_result"
    },
    {
     "data": {
      "image/png": "[encoded data removed]",
      "text/plain": [
       "<Figure size 640x480 with 2 Axes>"
      ]
     },
     "metadata": {},
     "output_type": "display_data"
    }
   ],
   "source": [
    "sns.heatmap(df[numcol].corr(),annot = True,fmt = '.1f')"
   ]
  },
  {
   "cell_type": "code",
   "execution_count": null,
   "metadata": {
    "execution": {
     "iopub.execute_input": "2025-06-24T03:36:02.224505Z",
     "iopub.status.busy": "2025-06-24T03:36:02.224146Z",
     "iopub.status.idle": "2025-06-24T03:36:02.228347Z",
     "shell.execute_reply": "2025-06-24T03:36:02.227480Z",
     "shell.execute_reply.started": "2025-06-24T03:36:02.224483Z"
    },
    "trusted": true
   },
   "outputs": [],
   "source": [
    "# df.drop(['house_age','condition','waterfront','sqft_lot'],axis = 1,inplace = True, errors = 'ignore')"
   ]
  },
  {
   "cell_type": "code",
   "execution_count": null,
   "metadata": {
    "execution": {
     "iopub.execute_input": "2025-06-24T03:37:56.994693Z",
     "iopub.status.busy": "2025-06-24T03:37:56.994011Z",
     "iopub.status.idle": "2025-06-24T03:37:57.065376Z",
     "shell.execute_reply": "2025-06-24T03:37:57.064510Z",
     "shell.execute_reply.started": "2025-06-24T03:37:56.994668Z"
    },
    "trusted": true
   },
   "outputs": [],
   "source": [
    "from sklearn.preprocessing import StandardScaler\n",
    "from sklearn.model_selection import train_test_split\n",
    "from sklearn.decomposition import PCA\n",
    "\n",
    "from sklearn.preprocessing import StandardScaler\n",
    "\n",
    "from sklearn.neural_network import MLPRegressor\n",
    "\n",
    "from sklearn.linear_model import (\n",
    "    LinearRegression,\n",
    "    BayesianRidge,\n",
    ")\n",
    "\n",
    "# Support Vector Regression\n",
    "from sklearn.svm import SVR\n",
    "\n",
    "# Decision Trees and Ensemble Methods\n",
    "from sklearn.ensemble import (\n",
    "    RandomForestRegressor,\n",
    "    GradientBoostingRegressor,\n",
    "    XGBRegressor\n",
    ")\n",
    "\n",
    "from sklearn.metrics import r2_score, mean_squared_error"
   ]
  },
  {
   "cell_type": "code",
   "execution_count": null,
   "metadata": {
    "execution": {
     "iopub.execute_input": "2025-06-21T04:40:04.243393Z",
     "iopub.status.busy": "2025-06-21T04:40:04.243055Z",
     "iopub.status.idle": "2025-06-21T04:40:04.253249Z",
     "shell.execute_reply": "2025-06-21T04:40:04.252350Z",
     "shell.execute_reply.started": "2025-06-21T04:40:04.243368Z"
    },
    "trusted": true
   },
   "outputs": [],
   "source": [
    "# encoder = StandardScaler()\n",
    "# # pca = PCA(n_components=0.95)\n",
    "# X = encoder.fit_transform(X)\n",
    "# for i in range(X_pca.shape[1]):\n",
    "#     df[f'pca_{i+1}'] = X_pca[:, i]\n",
    "\n",
    "# # 6. Drop original features used in PCA\n",
    "# df.drop(columns=columns, inplace=True)\n",
    "\n"
   ]
  },
  {
   "cell_type": "code",
   "execution_count": null,
   "metadata": {
    "execution": {
     "iopub.execute_input": "2025-06-24T03:38:12.392883Z",
     "iopub.status.busy": "2025-06-24T03:38:12.392287Z",
     "iopub.status.idle": "2025-06-24T03:38:12.409662Z",
     "shell.execute_reply": "2025-06-24T03:38:12.408725Z",
     "shell.execute_reply.started": "2025-06-24T03:38:12.392859Z"
    },
    "trusted": true
   },
   "outputs": [],
   "source": [
    "df = raw_df\n",
    "df = df.drop(columns=[\"id\", \"date\", \"street\", \"country\"], errors='ignore')\n",
    "\n",
    "# Drop rows with missing or zero price\n",
    "df = df[df['price'] > 0]\n",
    "\n",
    "# Separate features and target\n",
    "X = df.drop(columns=[\"price\"])\n",
    "y = df[\"price\"]\n",
    "\n",
    "# Preprocess features\n",
    "X = pd.get_dummies(X, drop_first=True)  # one-hot encode categoricals\n",
    "\n",
    "# Split data\n",
    "X_train, X_test, y_train, y_test = train_test_split(X, y, test_size=0.2, random_state=42)\n"
   ]
  },
  {
   "cell_type": "code",
   "execution_count": null,
   "metadata": {
    "execution": {
     "iopub.execute_input": "2025-06-24T03:38:17.264841Z",
     "iopub.status.busy": "2025-06-24T03:38:17.264521Z",
     "iopub.status.idle": "2025-06-24T03:38:17.276406Z",
     "shell.execute_reply": "2025-06-24T03:38:17.275599Z",
     "shell.execute_reply.started": "2025-06-24T03:38:17.264819Z"
    },
    "trusted": true
   },
   "outputs": [
    {
     "name": "stdout",
     "output_type": "stream",
     "text": [
      "Raw target skewness: 25.02\n",
      "Top 1% count: 46\n",
      "count    4.600000e+01\n",
      "mean     3.418114e+06\n",
      "std      3.903789e+06\n",
      "min      2.027000e+06\n",
      "25%      2.241666e+06\n",
      "50%      2.400000e+06\n",
      "75%      2.737500e+06\n",
      "max      2.659000e+07\n",
      "Name: price, dtype: float64\n"
     ]
    }
   ],
   "source": [
    "skewness = df['price'].skew()\n",
    "print(f\"Raw target skewness: {skewness:.2f}\")\n",
    "high_vals = df['price'] > df['price'].quantile(0.99)\n",
    "print(f\"Top 1% count: {high_vals.sum()}\")\n",
    "print(df['price'][high_vals].describe())\n",
    "# df['price'] = np.log1p(df[price])"
   ]
  },
  {
   "cell_type": "code",
   "execution_count": null,
   "metadata": {
    "execution": {
     "iopub.execute_input": "2025-06-24T03:39:04.195627Z",
     "iopub.status.busy": "2025-06-24T03:39:04.195042Z",
     "iopub.status.idle": "2025-06-24T03:39:04.396578Z",
     "shell.execute_reply": "2025-06-24T03:39:04.395902Z",
     "shell.execute_reply.started": "2025-06-24T03:39:04.195603Z"
    },
    "trusted": true
   },
   "outputs": [],
   "source": []
  },
  {
   "cell_type": "code",
   "execution_count": null,
   "metadata": {
    "execution": {
     "iopub.execute_input": "2025-06-24T03:39:51.460437Z",
     "iopub.status.busy": "2025-06-24T03:39:51.459612Z",
     "iopub.status.idle": "2025-06-24T03:39:51.464628Z",
     "shell.execute_reply": "2025-06-24T03:39:51.463767Z",
     "shell.execute_reply.started": "2025-06-24T03:39:51.460413Z"
    },
    "trusted": true
   },
   "outputs": [],
   "source": [
    "models = {\n",
    "        \"Linear\": LinearRegression(),\n",
    "        \"SVR\": SVR(),\n",
    "        \"RandomForest\": RandomForestRegressor(),\n",
    "        \"GradientBoosting\": GradientBoostingRegressor(),\n",
    "        \"XGBoost\": XGBRegressor(),\n",
    "        \"BayesianRidge\": BayesianRidge(),\n",
    "        \"MLPRegressor\":MLPRegressor()\n",
    "}"
   ]
  },
  {
   "cell_type": "code",
   "execution_count": null,
   "metadata": {
    "execution": {
     "iopub.execute_input": "2025-06-24T03:39:53.814642Z",
     "iopub.status.busy": "2025-06-24T03:39:53.813774Z",
     "iopub.status.idle": "2025-06-24T03:40:06.232119Z",
     "shell.execute_reply": "2025-06-24T03:40:06.231206Z",
     "shell.execute_reply.started": "2025-06-24T03:39:53.814618Z"
    },
    "trusted": true
   },
   "outputs": [
    {
     "name": "stdout",
     "output_type": "stream",
     "text": [
      "                            MAE           MSE          R2\n",
      "GradientBoosting  123354.197439  4.776704e+10    0.678921\n",
      "XGBoost           107924.209373  6.153189e+10    0.586397\n",
      "BayesianRidge     172098.951760  6.805339e+10    0.542561\n",
      "MLPRegressor      176191.098506  7.322594e+10    0.507792\n",
      "SVR               232646.714409  1.572599e+11   -0.057064\n",
      "RandomForest      126173.344692  2.181836e+11   -0.466579\n",
      "Linear            367630.142112  2.146492e+13 -143.282230\n"
     ]
    },
    {
     "name": "stderr",
     "output_type": "stream",
     "text": [
      "/usr/local/lib/python3.11/dist-packages/sklearn/neural_network/_multilayer_perceptron.py:686: ConvergenceWarning: Stochastic Optimizer: Maximum iterations (200) reached and the optimization hasn't converged yet.\n",
      "  warnings.warn(\n"
     ]
    }
   ],
   "source": [
    "from sklearn.metrics import mean_absolute_error, mean_squared_error, r2_score\n",
    "import numpy as np\n",
    "\n",
    "results = {}\n",
    "\n",
    "for name, model in models.items():\n",
    "    model.fit(X_train, y_train)\n",
    "    y_pred = model.predict(X_test)\n",
    "    \n",
    "    mae = mean_absolute_error(y_test, y_pred)\n",
    "    mse = mean_squared_error(y_test, y_pred)\n",
    "    r2 = r2_score(y_test, y_pred)\n",
    "    \n",
    "    results[name] = {\n",
    "        \"MAE\": mae,\n",
    "        \"MSE\": mse,\n",
    "        \"R2\": r2\n",
    "    }\n",
    "\n",
    "results_df = pd.DataFrame(results).T.sort_values(by=\"R2\", ascending=False)\n",
    "print(results_df)"
   ]
  },
  {
   "cell_type": "markdown",
   "metadata": {},
   "source": [
    "# FineTune"
   ]
  },
  {
   "cell_type": "code",
   "execution_count": null,
   "metadata": {
    "execution": {
     "iopub.execute_input": "2025-06-24T03:40:28.346816Z",
     "iopub.status.busy": "2025-06-24T03:40:28.346509Z",
     "iopub.status.idle": "2025-06-24T03:40:40.081202Z",
     "shell.execute_reply": "2025-06-24T03:40:40.080302Z",
     "shell.execute_reply.started": "2025-06-24T03:40:28.346797Z"
    },
    "trusted": true
   },
   "outputs": [
    {
     "name": "stderr",
     "output_type": "stream",
     "text": [
      "/usr/local/lib/python3.11/dist-packages/sklearn/neural_network/_multilayer_perceptron.py:686: ConvergenceWarning: Stochastic Optimizer: Maximum iterations (500) reached and the optimization hasn't converged yet.\n",
      "  warnings.warn(\n"
     ]
    },
    {
     "data": {
      "text/plain": [
       "{'Linear Regression': {'R²': -143.282, 'RMSE': 4633025},\n",
       " 'XGBoost (log target)': {'R²': 0.622, 'RMSE': 237044},\n",
       " 'MLP Regressor': {'R²': 0.718, 'RMSE': 204989}}"
      ]
     },
     "execution_count": 42,
     "metadata": {},
     "output_type": "execute_result"
    }
   ],
   "source": [
    "# ------ 1. Linear Regression ------\n",
    "lr = LinearRegression()\n",
    "lr.fit(X_train, y_train)\n",
    "y_pred_lr = lr.predict(X_test)\n",
    "r2_lr = r2_score(y_test, y_pred_lr)\n",
    "rmse_lr = mean_squared_error(y_test, y_pred_lr, squared=False)\n",
    "\n",
    "# ------ 2. XGBoost with log-transformed target ------\n",
    "y_train_log = np.log1p(y_train)\n",
    "y_test_log = np.log1p(y_test)\n",
    "xgb_model = xgb.XGBRegressor(n_estimators=200, random_state=42)\n",
    "xgb_model.fit(X_train, y_train_log)\n",
    "y_pred_xgb_log = xgb_model.predict(X_test)\n",
    "y_pred_xgb = np.expm1(y_pred_xgb_log)\n",
    "r2_xgb = r2_score(y_test, y_pred_xgb)\n",
    "rmse_xgb = mean_squared_error(y_test, y_pred_xgb, squared=False)\n",
    "\n",
    "# ------ 3. Neural Network (MLP) ------\n",
    "scaler = StandardScaler()\n",
    "X_train_scaled = scaler.fit_transform(X_train)\n",
    "X_test_scaled = scaler.transform(X_test)\n",
    "mlp = MLPRegressor(hidden_layer_sizes=(50, 50), max_iter=500, random_state=42)\n",
    "mlp.fit(X_train_scaled, y_train)\n",
    "y_pred_mlp = mlp.predict(X_test_scaled)\n",
    "r2_mlp = r2_score(y_test, y_pred_mlp)\n",
    "rmse_mlp = mean_squared_error(y_test, y_pred_mlp, squared=False)\n",
    "\n",
    "# Output scores\n",
    "{\n",
    "    \"Linear Regression\": {\"R²\": round(r2_lr, 3), \"RMSE\": int(rmse_lr)},\n",
    "    \"XGBoost (log target)\": {\"R²\": round(r2_xgb, 3), \"RMSE\": int(rmse_xgb)},\n",
    "    \"MLP Regressor\": {\"R²\": round(r2_mlp, 3), \"RMSE\": int(rmse_mlp)},\n",
    "}"
   ]
  },
  {
   "cell_type": "code",
   "execution_count": null,
   "metadata": {
    "trusted": true
   },
   "outputs": [],
   "source": []
  }
 ],
 "metadata": {
  "kaggle": {
   "accelerator": "none",
   "dataSources": [
    {
     "datasetId": 46927,
     "sourceId": 85203,
     "sourceType": "datasetVersion"
    }
   ],
   "dockerImageVersionId": 31040,
   "isGpuEnabled": false,
   "isInternetEnabled": true,
   "language": "python",
   "sourceType": "notebook"
  },
  "kernelspec": {
   "display_name": "Python 3",
   "language": "python",
   "name": "python3"
  },
  "language_info": {
   "codemirror_mode": {
    "name": "ipython",
    "version": 3
   },
   "file_extension": ".py",
   "mimetype": "text/x-python",
   "name": "python",
   "nbconvert_exporter": "python",
   "pygments_lexer": "ipython3",
   "version": "3.11.11"
  }
 },
 "nbformat": 4,
 "nbformat_minor": 4
}
